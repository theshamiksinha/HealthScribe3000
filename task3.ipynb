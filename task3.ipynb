{
 "cells": [
  {
   "cell_type": "code",
   "execution_count": 48,
   "metadata": {},
   "outputs": [],
   "source": [
    "import torch\n",
    "from transformers import AutoTokenizer, AutoModelForQuestionAnswering, Trainer, TrainingArguments\n",
    "from datasets import load_dataset\n",
    "import numpy as np\n",
    "import os\n",
    "import matplotlib.pyplot as plt\n",
    "import torch\n",
    "import numpy as np\n",
    "import matplotlib.pyplot as plt\n",
    "import collections\n",
    "from tqdm import tqdm\n",
    "from datasets import load_dataset\n",
    "from transformers import (\n",
    "    AutoTokenizer,\n",
    "    AutoModelForQuestionAnswering,\n",
    "    Trainer,\n",
    "    TrainingArguments\n",
    ")"
   ]
  },
  {
   "cell_type": "code",
   "execution_count": 49,
   "metadata": {},
   "outputs": [],
   "source": [
    "def plot(train_losses, validation_losses, em):\n",
    "    global epochs\n",
    "    plt.plot(range(1, epochs + 1), train_losses, label=\"Training Loss\")\n",
    "    plt.plot(range(1, epochs + 1), validation_losses, label=\"Validation Loss\")\n",
    "    plt.xlabel(\"Epochs\")\n",
    "    plt.ylabel(\"Loss\")\n",
    "    plt.legend()\n",
    "    plt.title(\"Training & Validation Loss\")\n",
    "    plt.savefig(\"loss.png\")\n",
    "\n",
    "    plt.plot(range(1, epochs + 1), em, label=\"em score\")\n",
    "    plt.xlabel(\"Epochs\")\n",
    "    plt.ylabel(\"em\")\n",
    "    plt.legend()\n",
    "    plt.savefig(\"em.png\")\n",
    "\n",
    "def get_best_ans( answers):\n",
    "    if answers != []:\n",
    "        maxi = answers[0][\"logit_score\"]\n",
    "        maxi_ans = answers[0][\"ans\"]\n",
    "        for i in answers:\n",
    "            if i[\"logit_score\"] > maxi:\n",
    "                maxi = i[\"logit_score\"]\n",
    "                maxi_ans = i[\"ans\"]\n",
    "        return maxi_ans\n",
    "    return \"\"\n",
    "\n",
    "\n",
    "def initialize_tokenizer(tokeniser, text, maxlen, stride):\n",
    "    normalised_ques = []\n",
    "    for _ in text[\"question\"]:\n",
    "        normalised_ques.append(_.strip().lower())\n",
    "\n",
    "    normalised_context = []\n",
    "    for _ in text[\"context\"]:\n",
    "        normalised_context.append(_.strip().lower())\n",
    "\n",
    "    inputs = tokeniser(\n",
    "        normalised_ques,\n",
    "        normalised_context,\n",
    "        truncation=\"only_second\",\n",
    "        max_length=maxlen,\n",
    "        stride=stride,\n",
    "        return_overflowing_tokens=True,\n",
    "        return_offsets_mapping=True,\n",
    "        padding=\"max_length\"\n",
    "    )\n",
    "    return inputs\n",
    "def is_valid_span(start, end, offsets, max_answer_length):\n",
    "    if offsets[start] is None or offsets[end] is None:\n",
    "        # print(\"abcd1\")\n",
    "        return False\n",
    "    if end < start or (end - start + 1) > max_answer_length:\n",
    "        # print(\"ab/cd2\")\n",
    "        return False\n",
    "    return True"
   ]
  },
  {
   "cell_type": "code",
   "execution_count": 2,
   "metadata": {},
   "outputs": [
    {
     "data": {
      "application/vnd.jupyter.widget-view+json": {
       "model_id": "eb17f85f9dbf409885dec1f19e14d609",
       "version_major": 2,
       "version_minor": 0
      },
      "text/plain": [
       "Map:   0%|          | 0/11873 [00:00<?, ? examples/s]"
      ]
     },
     "metadata": {},
     "output_type": "display_data"
    },
    {
     "name": "stderr",
     "output_type": "stream",
     "text": [
      "Some weights of BertForQuestionAnswering were not initialized from the model checkpoint at SpanBERT/spanbert-base-cased and are newly initialized: ['qa_outputs.bias', 'qa_outputs.weight']\n",
      "You should probably TRAIN this model on a down-stream task to be able to use it for predictions and inference.\n"
     ]
    },
    {
     "data": {
      "application/vnd.jupyter.widget-view+json": {
       "model_id": "af31d23c6d424798a3b6b7dcfe22ffd2",
       "version_major": 2,
       "version_minor": 0
      },
      "text/plain": [
       "Map:   0%|          | 0/15000 [00:00<?, ? examples/s]"
      ]
     },
     "metadata": {},
     "output_type": "display_data"
    },
    {
     "data": {
      "application/vnd.jupyter.widget-view+json": {
       "model_id": "6747392e931c4da39d8e21de311cd8ac",
       "version_major": 2,
       "version_minor": 0
      },
      "text/plain": [
       "Map:   0%|          | 0/11873 [00:00<?, ? examples/s]"
      ]
     },
     "metadata": {},
     "output_type": "display_data"
    },
    {
     "name": "stderr",
     "output_type": "stream",
     "text": [
      "/home/zeus/miniconda3/envs/cloudspace/lib/python3.10/site-packages/transformers/training_args.py:1594: FutureWarning: `evaluation_strategy` is deprecated and will be removed in version 4.46 of 🤗 Transformers. Use `eval_strategy` instead\n",
      "  warnings.warn(\n",
      "/tmp/ipykernel_52002/20993987.py:311: FutureWarning: `tokenizer` is deprecated and will be removed in version 5.0.0 for `Trainer.__init__`. Use `processing_class` instead.\n",
      "  trainer = Trainer(\n"
     ]
    },
    {
     "data": {
      "text/html": [
       "\n",
       "    <div>\n",
       "      \n",
       "      <progress value='956' max='956' style='width:300px; height:20px; vertical-align: middle;'></progress>\n",
       "      [956/956 03:30, Epoch 1/1]\n",
       "    </div>\n",
       "    <table border=\"1\" class=\"dataframe\">\n",
       "  <thead>\n",
       " <tr style=\"text-align: left;\">\n",
       "      <th>Epoch</th>\n",
       "      <th>Training Loss</th>\n",
       "      <th>Validation Loss</th>\n",
       "      <th>Exact Match</th>\n",
       "    </tr>\n",
       "  </thead>\n",
       "  <tbody>\n",
       "    <tr>\n",
       "      <td>1</td>\n",
       "      <td>1.938200</td>\n",
       "      <td>2.188898</td>\n",
       "      <td>32.788680</td>\n",
       "    </tr>\n",
       "  </tbody>\n",
       "</table><p>"
      ],
      "text/plain": [
       "<IPython.core.display.HTML object>"
      ]
     },
     "metadata": {},
     "output_type": "display_data"
    },
    {
     "name": "stdout",
     "output_type": "stream",
     "text": [
      "Finding EM score \n",
      "\n",
      "--------------------------------------\n"
     ]
    },
    {
     "name": "stderr",
     "output_type": "stream",
     "text": [
      "100%|██████████| 11873/11873 [00:13<00:00, 866.84it/s]"
     ]
    },
    {
     "name": "stdout",
     "output_type": "stream",
     "text": [
      "EM score:  32.78868019877032\n"
     ]
    },
    {
     "name": "stderr",
     "output_type": "stream",
     "text": [
      "\n"
     ]
    },
    {
     "data": {
      "text/html": [
       "\n",
       "    <div>\n",
       "      \n",
       "      <progress value='1538' max='769' style='width:300px; height:20px; vertical-align: middle;'></progress>\n",
       "      [769/769 04:02]\n",
       "    </div>\n",
       "    "
      ],
      "text/plain": [
       "<IPython.core.display.HTML object>"
      ]
     },
     "metadata": {},
     "output_type": "display_data"
    },
    {
     "name": "stdout",
     "output_type": "stream",
     "text": [
      "Finding EM score \n",
      "\n",
      "--------------------------------------\n"
     ]
    },
    {
     "name": "stderr",
     "output_type": "stream",
     "text": [
      "100%|██████████| 11873/11873 [00:13<00:00, 865.23it/s]\n"
     ]
    },
    {
     "name": "stdout",
     "output_type": "stream",
     "text": [
      "EM score:  32.78868019877032\n",
      "Epoch 1:\n",
      "  - Train Loss = 3.1595366051007514\n",
      "  - Eval Loss = 2.1888980865478516\n",
      "  - EM Score = 32.79%\n"
     ]
    },
    {
     "data": {
      "text/html": [
       "\n",
       "    <div>\n",
       "      \n",
       "      <progress value='956' max='956' style='width:300px; height:20px; vertical-align: middle;'></progress>\n",
       "      [956/956 03:27, Epoch 1/1]\n",
       "    </div>\n",
       "    <table border=\"1\" class=\"dataframe\">\n",
       "  <thead>\n",
       " <tr style=\"text-align: left;\">\n",
       "      <th>Epoch</th>\n",
       "      <th>Training Loss</th>\n",
       "      <th>Validation Loss</th>\n",
       "      <th>Exact Match</th>\n",
       "    </tr>\n",
       "  </thead>\n",
       "  <tbody>\n",
       "    <tr>\n",
       "      <td>1</td>\n",
       "      <td>1.470800</td>\n",
       "      <td>1.983756</td>\n",
       "      <td>34.498442</td>\n",
       "    </tr>\n",
       "  </tbody>\n",
       "</table><p>"
      ],
      "text/plain": [
       "<IPython.core.display.HTML object>"
      ]
     },
     "metadata": {},
     "output_type": "display_data"
    },
    {
     "name": "stdout",
     "output_type": "stream",
     "text": [
      "Finding EM score \n",
      "\n",
      "--------------------------------------\n"
     ]
    },
    {
     "name": "stderr",
     "output_type": "stream",
     "text": [
      "100%|██████████| 11873/11873 [00:13<00:00, 869.87it/s]"
     ]
    },
    {
     "name": "stdout",
     "output_type": "stream",
     "text": [
      "EM score:  34.498441842836684\n"
     ]
    },
    {
     "name": "stderr",
     "output_type": "stream",
     "text": [
      "\n"
     ]
    },
    {
     "data": {
      "text/html": [
       "\n",
       "    <div>\n",
       "      \n",
       "      <progress value='1538' max='769' style='width:300px; height:20px; vertical-align: middle;'></progress>\n",
       "      [769/769 04:06]\n",
       "    </div>\n",
       "    "
      ],
      "text/plain": [
       "<IPython.core.display.HTML object>"
      ]
     },
     "metadata": {},
     "output_type": "display_data"
    },
    {
     "name": "stdout",
     "output_type": "stream",
     "text": [
      "Finding EM score \n",
      "\n",
      "--------------------------------------\n"
     ]
    },
    {
     "name": "stderr",
     "output_type": "stream",
     "text": [
      "100%|██████████| 11873/11873 [00:13<00:00, 869.47it/s]\n"
     ]
    },
    {
     "name": "stdout",
     "output_type": "stream",
     "text": [
      "EM score:  34.498441842836684\n",
      "Epoch 2:\n",
      "  - Train Loss = 1.5976942752694485\n",
      "  - Eval Loss = 1.9837557077407837\n",
      "  - EM Score = 34.50%\n"
     ]
    },
    {
     "data": {
      "text/html": [
       "\n",
       "    <div>\n",
       "      \n",
       "      <progress value='956' max='956' style='width:300px; height:20px; vertical-align: middle;'></progress>\n",
       "      [956/956 03:30, Epoch 1/1]\n",
       "    </div>\n",
       "    <table border=\"1\" class=\"dataframe\">\n",
       "  <thead>\n",
       " <tr style=\"text-align: left;\">\n",
       "      <th>Epoch</th>\n",
       "      <th>Training Loss</th>\n",
       "      <th>Validation Loss</th>\n",
       "      <th>Exact Match</th>\n",
       "    </tr>\n",
       "  </thead>\n",
       "  <tbody>\n",
       "    <tr>\n",
       "      <td>1</td>\n",
       "      <td>1.320000</td>\n",
       "      <td>1.996746</td>\n",
       "      <td>34.557399</td>\n",
       "    </tr>\n",
       "  </tbody>\n",
       "</table><p>"
      ],
      "text/plain": [
       "<IPython.core.display.HTML object>"
      ]
     },
     "metadata": {},
     "output_type": "display_data"
    },
    {
     "name": "stdout",
     "output_type": "stream",
     "text": [
      "Finding EM score \n",
      "\n",
      "--------------------------------------\n"
     ]
    },
    {
     "name": "stderr",
     "output_type": "stream",
     "text": [
      "100%|██████████| 11873/11873 [00:13<00:00, 865.70it/s]"
     ]
    },
    {
     "name": "stdout",
     "output_type": "stream",
     "text": [
      "EM score:  34.55739914090794\n"
     ]
    },
    {
     "name": "stderr",
     "output_type": "stream",
     "text": [
      "\n"
     ]
    },
    {
     "data": {
      "text/html": [
       "\n",
       "    <div>\n",
       "      \n",
       "      <progress value='1538' max='769' style='width:300px; height:20px; vertical-align: middle;'></progress>\n",
       "      [769/769 04:07]\n",
       "    </div>\n",
       "    "
      ],
      "text/plain": [
       "<IPython.core.display.HTML object>"
      ]
     },
     "metadata": {},
     "output_type": "display_data"
    },
    {
     "name": "stdout",
     "output_type": "stream",
     "text": [
      "Finding EM score \n",
      "\n",
      "--------------------------------------\n"
     ]
    },
    {
     "name": "stderr",
     "output_type": "stream",
     "text": [
      "100%|██████████| 11873/11873 [00:13<00:00, 865.97it/s]\n"
     ]
    },
    {
     "name": "stdout",
     "output_type": "stream",
     "text": [
      "EM score:  34.55739914090794\n",
      "Epoch 3:\n",
      "  - Train Loss = 1.1808254090313133\n",
      "  - Eval Loss = 1.9967459440231323\n",
      "  - EM Score = 34.56%\n"
     ]
    },
    {
     "data": {
      "text/html": [
       "\n",
       "    <div>\n",
       "      \n",
       "      <progress value='956' max='956' style='width:300px; height:20px; vertical-align: middle;'></progress>\n",
       "      [956/956 03:30, Epoch 1/1]\n",
       "    </div>\n",
       "    <table border=\"1\" class=\"dataframe\">\n",
       "  <thead>\n",
       " <tr style=\"text-align: left;\">\n",
       "      <th>Epoch</th>\n",
       "      <th>Training Loss</th>\n",
       "      <th>Validation Loss</th>\n",
       "      <th>Exact Match</th>\n",
       "    </tr>\n",
       "  </thead>\n",
       "  <tbody>\n",
       "    <tr>\n",
       "      <td>1</td>\n",
       "      <td>1.334800</td>\n",
       "      <td>2.036200</td>\n",
       "      <td>34.709004</td>\n",
       "    </tr>\n",
       "  </tbody>\n",
       "</table><p>"
      ],
      "text/plain": [
       "<IPython.core.display.HTML object>"
      ]
     },
     "metadata": {},
     "output_type": "display_data"
    },
    {
     "name": "stdout",
     "output_type": "stream",
     "text": [
      "Finding EM score \n",
      "\n",
      "--------------------------------------\n"
     ]
    },
    {
     "name": "stderr",
     "output_type": "stream",
     "text": [
      "100%|██████████| 11873/11873 [00:13<00:00, 866.49it/s]"
     ]
    },
    {
     "name": "stdout",
     "output_type": "stream",
     "text": [
      "EM score:  34.709003621662596\n"
     ]
    },
    {
     "name": "stderr",
     "output_type": "stream",
     "text": [
      "\n"
     ]
    },
    {
     "data": {
      "text/html": [
       "\n",
       "    <div>\n",
       "      \n",
       "      <progress value='1538' max='769' style='width:300px; height:20px; vertical-align: middle;'></progress>\n",
       "      [769/769 04:11]\n",
       "    </div>\n",
       "    "
      ],
      "text/plain": [
       "<IPython.core.display.HTML object>"
      ]
     },
     "metadata": {},
     "output_type": "display_data"
    },
    {
     "name": "stdout",
     "output_type": "stream",
     "text": [
      "Finding EM score \n",
      "\n",
      "--------------------------------------\n"
     ]
    },
    {
     "name": "stderr",
     "output_type": "stream",
     "text": [
      "100%|██████████| 11873/11873 [00:13<00:00, 856.87it/s]\n"
     ]
    },
    {
     "name": "stdout",
     "output_type": "stream",
     "text": [
      "EM score:  34.709003621662596\n",
      "Epoch 4:\n",
      "  - Train Loss = 0.970500667224868\n",
      "  - Eval Loss = 2.0362002849578857\n",
      "  - EM Score = 34.71%\n"
     ]
    },
    {
     "data": {
      "text/html": [
       "\n",
       "    <div>\n",
       "      \n",
       "      <progress value='956' max='956' style='width:300px; height:20px; vertical-align: middle;'></progress>\n",
       "      [956/956 03:37, Epoch 1/1]\n",
       "    </div>\n",
       "    <table border=\"1\" class=\"dataframe\">\n",
       "  <thead>\n",
       " <tr style=\"text-align: left;\">\n",
       "      <th>Epoch</th>\n",
       "      <th>Training Loss</th>\n",
       "      <th>Validation Loss</th>\n",
       "      <th>Exact Match</th>\n",
       "    </tr>\n",
       "  </thead>\n",
       "  <tbody>\n",
       "    <tr>\n",
       "      <td>1</td>\n",
       "      <td>1.268500</td>\n",
       "      <td>2.029939</td>\n",
       "      <td>34.843763</td>\n",
       "    </tr>\n",
       "  </tbody>\n",
       "</table><p>"
      ],
      "text/plain": [
       "<IPython.core.display.HTML object>"
      ]
     },
     "metadata": {},
     "output_type": "display_data"
    },
    {
     "name": "stdout",
     "output_type": "stream",
     "text": [
      "Finding EM score \n",
      "\n",
      "--------------------------------------\n"
     ]
    },
    {
     "name": "stderr",
     "output_type": "stream",
     "text": [
      "100%|██████████| 11873/11873 [00:15<00:00, 777.53it/s]"
     ]
    },
    {
     "name": "stdout",
     "output_type": "stream",
     "text": [
      "EM score:  34.84376316011117\n"
     ]
    },
    {
     "name": "stderr",
     "output_type": "stream",
     "text": [
      "\n"
     ]
    },
    {
     "data": {
      "text/html": [
       "\n",
       "    <div>\n",
       "      \n",
       "      <progress value='1538' max='769' style='width:300px; height:20px; vertical-align: middle;'></progress>\n",
       "      [769/769 04:08]\n",
       "    </div>\n",
       "    "
      ],
      "text/plain": [
       "<IPython.core.display.HTML object>"
      ]
     },
     "metadata": {},
     "output_type": "display_data"
    },
    {
     "name": "stdout",
     "output_type": "stream",
     "text": [
      "Finding EM score \n",
      "\n",
      "--------------------------------------\n"
     ]
    },
    {
     "name": "stderr",
     "output_type": "stream",
     "text": [
      "100%|██████████| 11873/11873 [00:14<00:00, 844.89it/s]\n"
     ]
    },
    {
     "name": "stdout",
     "output_type": "stream",
     "text": [
      "EM score:  34.84376316011117\n",
      "Epoch 5:\n",
      "  - Train Loss = 0.8446808669357619\n",
      "  - Eval Loss = 2.0299386978149414\n",
      "  - EM Score = 34.84%\n"
     ]
    },
    {
     "data": {
      "text/html": [
       "\n",
       "    <div>\n",
       "      \n",
       "      <progress value='956' max='956' style='width:300px; height:20px; vertical-align: middle;'></progress>\n",
       "      [956/956 03:29, Epoch 1/1]\n",
       "    </div>\n",
       "    <table border=\"1\" class=\"dataframe\">\n",
       "  <thead>\n",
       " <tr style=\"text-align: left;\">\n",
       "      <th>Epoch</th>\n",
       "      <th>Training Loss</th>\n",
       "      <th>Validation Loss</th>\n",
       "      <th>Exact Match</th>\n",
       "    </tr>\n",
       "  </thead>\n",
       "  <tbody>\n",
       "    <tr>\n",
       "      <td>1</td>\n",
       "      <td>1.233900</td>\n",
       "      <td>2.088708</td>\n",
       "      <td>34.776383</td>\n",
       "    </tr>\n",
       "  </tbody>\n",
       "</table><p>"
      ],
      "text/plain": [
       "<IPython.core.display.HTML object>"
      ]
     },
     "metadata": {},
     "output_type": "display_data"
    },
    {
     "name": "stdout",
     "output_type": "stream",
     "text": [
      "Finding EM score \n",
      "\n",
      "--------------------------------------\n"
     ]
    },
    {
     "name": "stderr",
     "output_type": "stream",
     "text": [
      "100%|██████████| 11873/11873 [00:13<00:00, 876.07it/s]"
     ]
    },
    {
     "name": "stdout",
     "output_type": "stream",
     "text": [
      "EM score:  34.776383390886885\n"
     ]
    },
    {
     "name": "stderr",
     "output_type": "stream",
     "text": [
      "\n"
     ]
    },
    {
     "data": {
      "text/html": [
       "\n",
       "    <div>\n",
       "      \n",
       "      <progress value='1538' max='769' style='width:300px; height:20px; vertical-align: middle;'></progress>\n",
       "      [769/769 04:07]\n",
       "    </div>\n",
       "    "
      ],
      "text/plain": [
       "<IPython.core.display.HTML object>"
      ]
     },
     "metadata": {},
     "output_type": "display_data"
    },
    {
     "name": "stdout",
     "output_type": "stream",
     "text": [
      "Finding EM score \n",
      "\n",
      "--------------------------------------\n"
     ]
    },
    {
     "name": "stderr",
     "output_type": "stream",
     "text": [
      "100%|██████████| 11873/11873 [00:13<00:00, 865.42it/s]\n"
     ]
    },
    {
     "name": "stdout",
     "output_type": "stream",
     "text": [
      "EM score:  34.776383390886885\n",
      "Epoch 6:\n",
      "  - Train Loss = 0.75875442596659\n",
      "  - Eval Loss = 2.088707685470581\n",
      "  - EM Score = 34.78%\n"
     ]
    },
    {
     "data": {
      "text/html": [
       "\n",
       "    <div>\n",
       "      \n",
       "      <progress value='956' max='956' style='width:300px; height:20px; vertical-align: middle;'></progress>\n",
       "      [956/956 03:30, Epoch 1/1]\n",
       "    </div>\n",
       "    <table border=\"1\" class=\"dataframe\">\n",
       "  <thead>\n",
       " <tr style=\"text-align: left;\">\n",
       "      <th>Epoch</th>\n",
       "      <th>Training Loss</th>\n",
       "      <th>Validation Loss</th>\n",
       "      <th>Exact Match</th>\n",
       "    </tr>\n",
       "  </thead>\n",
       "  <tbody>\n",
       "    <tr>\n",
       "      <td>1</td>\n",
       "      <td>1.345800</td>\n",
       "      <td>2.149595</td>\n",
       "      <td>34.607934</td>\n",
       "    </tr>\n",
       "  </tbody>\n",
       "</table><p>"
      ],
      "text/plain": [
       "<IPython.core.display.HTML object>"
      ]
     },
     "metadata": {},
     "output_type": "display_data"
    },
    {
     "name": "stdout",
     "output_type": "stream",
     "text": [
      "Finding EM score \n",
      "\n",
      "--------------------------------------\n"
     ]
    },
    {
     "name": "stderr",
     "output_type": "stream",
     "text": [
      "100%|██████████| 11873/11873 [00:13<00:00, 849.35it/s]"
     ]
    },
    {
     "name": "stdout",
     "output_type": "stream",
     "text": [
      "EM score:  34.60793396782616\n"
     ]
    },
    {
     "name": "stderr",
     "output_type": "stream",
     "text": [
      "\n"
     ]
    },
    {
     "data": {
      "text/html": [
       "\n",
       "    <div>\n",
       "      \n",
       "      <progress value='1538' max='769' style='width:300px; height:20px; vertical-align: middle;'></progress>\n",
       "      [769/769 04:08]\n",
       "    </div>\n",
       "    "
      ],
      "text/plain": [
       "<IPython.core.display.HTML object>"
      ]
     },
     "metadata": {},
     "output_type": "display_data"
    },
    {
     "name": "stdout",
     "output_type": "stream",
     "text": [
      "Finding EM score \n",
      "\n",
      "--------------------------------------\n"
     ]
    },
    {
     "name": "stderr",
     "output_type": "stream",
     "text": [
      "100%|██████████| 11873/11873 [00:13<00:00, 868.79it/s]\n"
     ]
    },
    {
     "name": "stdout",
     "output_type": "stream",
     "text": [
      "EM score:  34.60793396782616\n",
      "Epoch 7:\n",
      "  - Train Loss = 0.6972055138404399\n",
      "  - Eval Loss = 2.14959454536438\n",
      "  - EM Score = 34.61%\n"
     ]
    },
    {
     "data": {
      "text/html": [
       "\n",
       "    <div>\n",
       "      \n",
       "      <progress value='956' max='956' style='width:300px; height:20px; vertical-align: middle;'></progress>\n",
       "      [956/956 03:30, Epoch 1/1]\n",
       "    </div>\n",
       "    <table border=\"1\" class=\"dataframe\">\n",
       "  <thead>\n",
       " <tr style=\"text-align: left;\">\n",
       "      <th>Epoch</th>\n",
       "      <th>Training Loss</th>\n",
       "      <th>Validation Loss</th>\n",
       "      <th>Exact Match</th>\n",
       "    </tr>\n",
       "  </thead>\n",
       "  <tbody>\n",
       "    <tr>\n",
       "      <td>1</td>\n",
       "      <td>1.474800</td>\n",
       "      <td>2.260197</td>\n",
       "      <td>34.186810</td>\n",
       "    </tr>\n",
       "  </tbody>\n",
       "</table><p>"
      ],
      "text/plain": [
       "<IPython.core.display.HTML object>"
      ]
     },
     "metadata": {},
     "output_type": "display_data"
    },
    {
     "name": "stdout",
     "output_type": "stream",
     "text": [
      "Finding EM score \n",
      "\n",
      "--------------------------------------\n"
     ]
    },
    {
     "name": "stderr",
     "output_type": "stream",
     "text": [
      "100%|██████████| 11873/11873 [00:13<00:00, 862.45it/s]\n"
     ]
    },
    {
     "name": "stdout",
     "output_type": "stream",
     "text": [
      "EM score:  34.186810410174346\n"
     ]
    },
    {
     "data": {
      "text/html": [
       "\n",
       "    <div>\n",
       "      \n",
       "      <progress value='1538' max='769' style='width:300px; height:20px; vertical-align: middle;'></progress>\n",
       "      [769/769 04:11]\n",
       "    </div>\n",
       "    "
      ],
      "text/plain": [
       "<IPython.core.display.HTML object>"
      ]
     },
     "metadata": {},
     "output_type": "display_data"
    },
    {
     "name": "stdout",
     "output_type": "stream",
     "text": [
      "Finding EM score \n",
      "\n",
      "--------------------------------------\n"
     ]
    },
    {
     "name": "stderr",
     "output_type": "stream",
     "text": [
      "100%|██████████| 11873/11873 [00:13<00:00, 860.95it/s]\n"
     ]
    },
    {
     "name": "stdout",
     "output_type": "stream",
     "text": [
      "EM score:  34.186810410174346\n",
      "Epoch 8:\n",
      "  - Train Loss = 0.6572379220479702\n",
      "  - Eval Loss = 2.260197401046753\n",
      "  - EM Score = 34.19%\n"
     ]
    },
    {
     "data": {
      "text/html": [
       "\n",
       "    <div>\n",
       "      \n",
       "      <progress value='956' max='956' style='width:300px; height:20px; vertical-align: middle;'></progress>\n",
       "      [956/956 03:33, Epoch 1/1]\n",
       "    </div>\n",
       "    <table border=\"1\" class=\"dataframe\">\n",
       "  <thead>\n",
       " <tr style=\"text-align: left;\">\n",
       "      <th>Epoch</th>\n",
       "      <th>Training Loss</th>\n",
       "      <th>Validation Loss</th>\n",
       "      <th>Exact Match</th>\n",
       "    </tr>\n",
       "  </thead>\n",
       "  <tbody>\n",
       "    <tr>\n",
       "      <td>1</td>\n",
       "      <td>1.421900</td>\n",
       "      <td>2.308518</td>\n",
       "      <td>34.043628</td>\n",
       "    </tr>\n",
       "  </tbody>\n",
       "</table><p>"
      ],
      "text/plain": [
       "<IPython.core.display.HTML object>"
      ]
     },
     "metadata": {},
     "output_type": "display_data"
    },
    {
     "name": "stdout",
     "output_type": "stream",
     "text": [
      "Finding EM score \n",
      "\n",
      "--------------------------------------\n"
     ]
    },
    {
     "name": "stderr",
     "output_type": "stream",
     "text": [
      "100%|██████████| 11873/11873 [00:13<00:00, 859.10it/s]"
     ]
    },
    {
     "name": "stdout",
     "output_type": "stream",
     "text": [
      "EM score:  34.04362840057273\n"
     ]
    },
    {
     "name": "stderr",
     "output_type": "stream",
     "text": [
      "\n"
     ]
    },
    {
     "data": {
      "text/html": [
       "\n",
       "    <div>\n",
       "      \n",
       "      <progress value='1538' max='769' style='width:300px; height:20px; vertical-align: middle;'></progress>\n",
       "      [769/769 04:10]\n",
       "    </div>\n",
       "    "
      ],
      "text/plain": [
       "<IPython.core.display.HTML object>"
      ]
     },
     "metadata": {},
     "output_type": "display_data"
    },
    {
     "name": "stdout",
     "output_type": "stream",
     "text": [
      "Finding EM score \n",
      "\n",
      "--------------------------------------\n"
     ]
    },
    {
     "name": "stderr",
     "output_type": "stream",
     "text": [
      "100%|██████████| 11873/11873 [00:13<00:00, 879.67it/s]\n"
     ]
    },
    {
     "name": "stdout",
     "output_type": "stream",
     "text": [
      "EM score:  34.04362840057273\n",
      "Epoch 9:\n",
      "  - Train Loss = 0.6214063394518576\n",
      "  - Eval Loss = 2.308518171310425\n",
      "  - EM Score = 34.04%\n"
     ]
    },
    {
     "data": {
      "text/html": [
       "\n",
       "    <div>\n",
       "      \n",
       "      <progress value='956' max='956' style='width:300px; height:20px; vertical-align: middle;'></progress>\n",
       "      [956/956 03:32, Epoch 1/1]\n",
       "    </div>\n",
       "    <table border=\"1\" class=\"dataframe\">\n",
       "  <thead>\n",
       " <tr style=\"text-align: left;\">\n",
       "      <th>Epoch</th>\n",
       "      <th>Training Loss</th>\n",
       "      <th>Validation Loss</th>\n",
       "      <th>Exact Match</th>\n",
       "    </tr>\n",
       "  </thead>\n",
       "  <tbody>\n",
       "    <tr>\n",
       "      <td>1</td>\n",
       "      <td>1.323300</td>\n",
       "      <td>2.300493</td>\n",
       "      <td>34.431062</td>\n",
       "    </tr>\n",
       "  </tbody>\n",
       "</table><p>"
      ],
      "text/plain": [
       "<IPython.core.display.HTML object>"
      ]
     },
     "metadata": {},
     "output_type": "display_data"
    },
    {
     "name": "stdout",
     "output_type": "stream",
     "text": [
      "Finding EM score \n",
      "\n",
      "--------------------------------------\n"
     ]
    },
    {
     "name": "stderr",
     "output_type": "stream",
     "text": [
      "100%|██████████| 11873/11873 [00:13<00:00, 876.15it/s]\n"
     ]
    },
    {
     "name": "stdout",
     "output_type": "stream",
     "text": [
      "EM score:  34.431062073612395\n"
     ]
    },
    {
     "data": {
      "text/html": [
       "\n",
       "    <div>\n",
       "      \n",
       "      <progress value='769' max='769' style='width:300px; height:20px; vertical-align: middle;'></progress>\n",
       "      [769/769 00:39]\n",
       "    </div>\n",
       "    "
      ],
      "text/plain": [
       "<IPython.core.display.HTML object>"
      ]
     },
     "metadata": {},
     "output_type": "display_data"
    },
    {
     "name": "stdout",
     "output_type": "stream",
     "text": [
      "Finding EM score \n",
      "\n",
      "--------------------------------------\n"
     ]
    },
    {
     "name": "stderr",
     "output_type": "stream",
     "text": [
      "100%|██████████| 11873/11873 [00:13<00:00, 872.65it/s]\n"
     ]
    },
    {
     "name": "stdout",
     "output_type": "stream",
     "text": [
      "EM score:  34.431062073612395\n",
      "Epoch 10:\n",
      "  - Train Loss = 0.5911220227325312\n",
      "  - Eval Loss = 2.300493001937866\n",
      "  - EM Score = 34.43%\n"
     ]
    },
    {
     "data": {
      "image/png": "[encoded data removed]",
      "text/plain": [
       "<Figure size 800x600 with 1 Axes>"
      ]
     },
     "metadata": {},
     "output_type": "display_data"
    },
    {
     "data": {
      "image/png": "[encoded data removed]",
      "text/plain": [
       "<Figure size 800x600 with 1 Axes>"
      ]
     },
     "metadata": {},
     "output_type": "display_data"
    }
   ],
   "source": [
    "#%%\n",
    "import torch\n",
    "from transformers import AutoTokenizer, AutoModelForQuestionAnswering, Trainer, TrainingArguments\n",
    "from datasets import load_dataset\n",
    "import numpy as np\n",
    "import os\n",
    "import matplotlib.pyplot as plt\n",
    "import torch\n",
    "import numpy as np\n",
    "import matplotlib.pyplot as plt\n",
    "import collections\n",
    "from tqdm import tqdm\n",
    "from datasets import load_dataset\n",
    "from transformers import (\n",
    "    AutoTokenizer,\n",
    "    AutoModelForQuestionAnswering,\n",
    "    Trainer,\n",
    "    TrainingArguments\n",
    ")\n",
    "# os.environ[\"CUDA_VISIBLE_DEVICES\"] = \"6\"\n",
    "def plot(train_losses, validation_losses, em):\n",
    "    global epochs\n",
    "    plt.plot(range(1, epochs + 1), train_losses, label=\"Training Loss\")\n",
    "    plt.plot(range(1, epochs + 1), validation_losses, label=\"Validation Loss\")\n",
    "    plt.xlabel(\"Epochs\")\n",
    "    plt.ylabel(\"Loss\")\n",
    "    plt.legend()\n",
    "    plt.title(\"Training & Validation Loss\")\n",
    "    plt.savefig(\"loss.png\")\n",
    "\n",
    "    plt.plot(range(1, epochs + 1), em, label=\"em score\")\n",
    "    plt.xlabel(\"Epochs\")\n",
    "    plt.ylabel(\"em\")\n",
    "    plt.legend()\n",
    "    plt.savefig(\"em.png\")\n",
    "\n",
    "def get_best_ans( answers):\n",
    "    if answers != []:\n",
    "        maxi = answers[0][\"logit_score\"]\n",
    "        maxi_ans = answers[0][\"ans\"]\n",
    "        for i in answers:\n",
    "            if i[\"logit_score\"] > maxi:\n",
    "                maxi = i[\"logit_score\"]\n",
    "                maxi_ans = i[\"ans\"]\n",
    "        return maxi_ans\n",
    "    return \"\"\n",
    "\n",
    "def initialize_tokenizer(tokeniser, text, maxlen, stride):\n",
    "    normalised_ques = []\n",
    "    for _ in text[\"question\"]:\n",
    "        normalised_ques.append(_.strip().lower())\n",
    "\n",
    "    normalised_context = []\n",
    "    for _ in text[\"context\"]:\n",
    "        normalised_context.append(_.strip().lower())\n",
    "\n",
    "    inputs = tokeniser(\n",
    "        normalised_ques,\n",
    "        normalised_context,\n",
    "        truncation=\"only_second\",\n",
    "        max_length=maxlen,\n",
    "        stride=stride,\n",
    "        return_overflowing_tokens=True,\n",
    "        return_offsets_mapping=True,\n",
    "        padding=\"max_length\"\n",
    "    )\n",
    "    return inputs\n",
    "def is_valid_span(start, end, offsets, max_answer_length):\n",
    "    if offsets[start] is None or offsets[end] is None:\n",
    "        # print(\"abcd1\")\n",
    "        return False\n",
    "    if end < start or (end - start + 1) > max_answer_length:\n",
    "        # print(\"ab/cd2\")\n",
    "        return False\n",
    "    return True\n",
    "def lowercase_example(example):\n",
    "    example[\"question\"] = example[\"question\"].lower()\n",
    "    example[\"context\"] = example[\"context\"].lower()\n",
    "    # Lowercase each answer text. The answer_start remains unchanged because lowercasing preserves string length.\n",
    "    example[\"answers\"][\"text\"] = [ans.lower() for ans in example[\"answers\"][\"text\"]]\n",
    "    return example\n",
    "\n",
    "def init_weights(module):\n",
    "    if isinstance(module, (torch.nn.Linear, torch.nn.Embedding)):\n",
    "        torch.nn.init.xavier_uniform_(module.weight)\n",
    "    if isinstance(module, torch.nn.Linear) and module.bias is not None:\n",
    "        torch.nn.init.zeros_(module.bias)\n",
    "\n",
    "def exact_match_score(predictions, references):\n",
    "    \"\"\"\n",
    "    Compute the exact match score.\n",
    "    Here, predictions is a list of strings and references is a list of lists of strings.\n",
    "    A prediction is considered correct if it exactly matches any of the reference answers.\n",
    "    \"\"\"\n",
    "    matches = 0\n",
    "    for pred, ref_list in zip(predictions, references):\n",
    "        # Check if prediction matches any of the reference answers (after stripping whitespace)\n",
    "        if any(pred.strip() == ref.strip() for ref in ref_list):\n",
    "            matches += 1\n",
    "    return matches / len(references) * 100  # Convert to percentage\n",
    "\n",
    "class SpanBERT1:\n",
    "    def __init__(self, max_length=384, doc_stride=128):\n",
    "        self.dataset = load_dataset(\"squad_v2\")\n",
    "        self.dataset[\"train\"] = self.dataset[\"train\"].select(range(15000))\n",
    "        self.dataset[\"validation\"] = self.dataset[\"validation\"]\n",
    "        self.dataset[\"train\"] = self.dataset[\"train\"].map(lowercase_example)\n",
    "        self.dataset[\"validation\"] = self.dataset[\"validation\"].map(lowercase_example)\n",
    "        self.validation_examples = self.dataset[\"validation\"]\n",
    "\n",
    "        self.tokenizer = AutoTokenizer.from_pretrained(\"bert-base-cased\")  # or \"bert-base-uncased\"\n",
    "        self.model = AutoModelForQuestionAnswering.from_pretrained(\"SpanBERT/spanbert-base-cased\")\n",
    "        self.max_length = max_length\n",
    "        self.doc_stride = doc_stride\n",
    "\n",
    "    def preprocess_training_examples(self, text):\n",
    "        # print(text)\n",
    "        inputs = initialize_tokenizer(self.tokenizer, text, self.max_length, self.doc_stride)\n",
    "\n",
    "        overflow_to_sample_mapping, offset_mapping = inputs.pop(\"overflow_to_sample_mapping\"), inputs.pop(\"offset_mapping\")\n",
    "        CLS_token =  self.tokenizer.cls_token_id\n",
    "        start_positions, end_positions = [],[]\n",
    "\n",
    "        for index, offsets in enumerate(offset_mapping):\n",
    "            sample_index = overflow_to_sample_mapping[index]\n",
    "            answers = text[\"answers\"][sample_index]\n",
    "            # print(inputs[\"input_ids\"])\n",
    "\n",
    "            cls_index = inputs[\"input_ids\"][index].index(CLS_token)\n",
    "\n",
    "            if len(answers[\"answer_start\"]) == 0:\n",
    "                start_positions, end_positions = self.no_answer(start_positions, end_positions, cls_index)\n",
    "            else:\n",
    "                start_char = answers[\"answer_start\"][0]\n",
    "                end_char = answers[\"answer_start\"][0] + len(answers[\"text\"][0])\n",
    "                sequence_ids = inputs.sequence_ids(index)\n",
    "\n",
    "                context_start = sequence_ids.index(1)\n",
    "\n",
    "                context_end = None\n",
    "                for i in range(len(sequence_ids) - 1, -1, -1):\n",
    "                    if sequence_ids[i] == 1:\n",
    "                        context_end = i\n",
    "                        break\n",
    "\n",
    "                # TODO: maybe fix this\n",
    "                if offsets[context_start][0] > start_char or offsets[context_end - 1][1] < end_char:\n",
    "                    start_positions, end_positions = self.no_answer(start_positions, end_positions, cls_index)\n",
    "                else:\n",
    "                    token_start_index = context_start\n",
    "                    for i in range(context_start, context_end):\n",
    "                        if offsets[i][0] > start_char:\n",
    "                            break\n",
    "                        token_start_index = i\n",
    "\n",
    "                    for i in range(context_end - 1, context_start - 1, -1):\n",
    "                        if offsets[i][1] < end_char:\n",
    "                            token_end_index = i + 1\n",
    "                            break\n",
    "                    else:\n",
    "                        token_end_index = context_start\n",
    "\n",
    "                    start_positions.append(token_start_index)\n",
    "                    end_positions.append(token_end_index)\n",
    "\n",
    "        inputs[\"start_positions\"], inputs[\"end_positions\"] = start_positions, end_positions\n",
    "        return inputs\n",
    "    def no_answer(self, start_positions,end_positions, cls_token):\n",
    "        start_positions.append(0)\n",
    "        end_positions.append(0)\n",
    "        return start_positions, end_positions\n",
    "    def preprocess_validation_examples(self, text):\n",
    "\n",
    "        inputs = initialize_tokenizer(self.tokenizer, text, self.max_length, self.doc_stride)\n",
    "\n",
    "        overflow_to_sample_mapping, offset_mapping = inputs.pop(\"overflow_to_sample_mapping\"), inputs[\"offset_mapping\"]\n",
    "        CLS_token =  self.tokenizer.cls_token_id\n",
    "        start_positions, end_positions, example_ids, contexts, answer_list = [],[], [], [], []\n",
    "\n",
    "        for index, offsets in enumerate(offset_mapping):\n",
    "            sample_index = overflow_to_sample_mapping[index]\n",
    "            example_ids.append(text[\"id\"][sample_index])\n",
    "            contexts.append(text[\"context\"][sample_index])\n",
    "            answer_list.append(text[\"answers\"][sample_index])\n",
    "            answers = text[\"answers\"][sample_index]\n",
    "            cls_index = inputs[\"input_ids\"][index].index(CLS_token)\n",
    "\n",
    "            if len(answers[\"answer_start\"]) == 0:\n",
    "                start_positions, end_positions = self.no_answer(start_positions, end_positions, cls_index)\n",
    "            else:\n",
    "                start_char = answers[\"answer_start\"][0]\n",
    "                end_char = answers[\"answer_start\"][0] + len(answers[\"text\"][0])\n",
    "                sequence_ids = inputs.sequence_ids(index)\n",
    "\n",
    "                context_start = sequence_ids.index(1)\n",
    "\n",
    "                context_end = None\n",
    "                for i in range(len(sequence_ids) - 1, -1, -1):\n",
    "                    if sequence_ids[i] == 1:\n",
    "                        context_end = i\n",
    "                        break\n",
    "\n",
    "                if offsets[context_start][0] > start_char or offsets[context_end][1] < end_char:\n",
    "                    start_positions, end_positions = self.no_answer(start_positions, end_positions, cls_index)\n",
    "                else:\n",
    "                    token_start_index = context_start\n",
    "                    for i in range(context_start, context_end):\n",
    "                        if offsets[i][0] > start_char:\n",
    "                            break\n",
    "                        token_start_index = i\n",
    "\n",
    "                    for i in range(context_end - 1, context_start - 1, -1):\n",
    "                        if offsets[i][1] < end_char:\n",
    "                            token_end_index = i + 1\n",
    "                            break\n",
    "                    else:\n",
    "                        token_end_index = context_start\n",
    "\n",
    "                    start_positions.append(token_start_index)\n",
    "                    end_positions.append(token_end_index)\n",
    "\n",
    "            sequence_ids = inputs.sequence_ids(index)\n",
    "            inputs[\"offset_mapping\"][index] = [o if sequence_ids[k] == 1 else None for k, o in enumerate(offsets)]\n",
    "\n",
    "        inputs[\"example_id\"] = example_ids\n",
    "        inputs[\"start_positions\"], inputs[\"end_positions\"] = start_positions, end_positions\n",
    "        inputs[\"context\"] = contexts\n",
    "        inputs[\"answers\"] = answer_list\n",
    "        return inputs\n",
    "\n",
    "    def tokenize_dataset(self):\n",
    "        train_dataset = self.dataset[\"train\"].map(\n",
    "            self.preprocess_training_examples,\n",
    "            batched=True,\n",
    "            remove_columns=self.dataset[\"train\"].column_names\n",
    "        )\n",
    "        validation_dataset = self.dataset[\"validation\"].map(\n",
    "            self.preprocess_validation_examples,\n",
    "            batched=True,\n",
    "            remove_columns=self.dataset[\"validation\"].column_names\n",
    "        )\n",
    "        # Store the tokenized validation features for later metric computation\n",
    "        self.validation_features = validation_dataset\n",
    "        return train_dataset, validation_dataset\n",
    "\n",
    "    def get_row_to_feature_map(self):\n",
    "        row_to_features = {}\n",
    "\n",
    "        for idx, feature in enumerate(self.validation_features):\n",
    "            if feature[\"example_id\"] not in row_to_features:\n",
    "                row_to_features[feature[\"example_id\"]] = []\n",
    "\n",
    "            row_to_features[feature[\"example_id\"]].append(idx)\n",
    "        return row_to_features\n",
    "\n",
    "    def compute_metrics(self, eval_pred):\n",
    "\n",
    "        print(\"Finding EM score \\n\")\n",
    "        print(\"--------------------------------------\")\n",
    "        n, max_answer_length, example_to_features = 30, 40, self.get_row_to_feature_map()\n",
    "        answers = []\n",
    "\n",
    "        predicted_answers ,true_answers= [], []\n",
    "\n",
    "        for row in tqdm(self.validation_examples):\n",
    "            row_index, context = row[\"id\"], row[\"context\"]\n",
    "            answers = []\n",
    "\n",
    "            for feature_index in example_to_features[row_index]:\n",
    "                feature = self.validation_features[feature_index]\n",
    "                offsets = feature[\"offset_mapping\"]\n",
    "                start_logits ,end_logits = eval_pred.predictions[0][feature_index], eval_pred.predictions[1][feature_index]\n",
    "\n",
    "                start = np.argsort(start_logits)[::-1][:n].tolist()\n",
    "                end = np.argsort(end_logits)[::-1][:n].tolist()\n",
    "\n",
    "                for s_idx in start:\n",
    "                    for e_idx in end:\n",
    "                        if not is_valid_span(s_idx, e_idx, offsets, max_answer_length):\n",
    "                            continue\n",
    "                        answers.append({\"ans\": context[offsets[s_idx][0]: offsets[e_idx][1]], \"logit_score\": start_logits[s_idx] + end_logits[e_idx]})\n",
    "\n",
    "\n",
    "            predicted_answers.append(get_best_ans(answers))\n",
    "\n",
    "            if row[\"answers\"][\"text\"]:\n",
    "                true_answers.append(row[\"answers\"][\"text\"])\n",
    "            else:\n",
    "                true_answers.append([\"\"])\n",
    "\n",
    "        em = exact_match_score(predicted_answers, true_answers)\n",
    "        print(\"EM score: \", em)\n",
    "        return {\"eval_exact_match\": em}\n",
    "    def initialize_model(self, train_dataset, validation_dataset):\n",
    "        training_args = TrainingArguments(\n",
    "            output_dir=\"./results1\",\n",
    "            evaluation_strategy=\"epoch\",\n",
    "            save_strategy=\"epoch\",\n",
    "            learning_rate=4e-5,\n",
    "            per_device_train_batch_size=16,\n",
    "            per_device_eval_batch_size=16,\n",
    "            num_train_epochs=1,\n",
    "            warmup_steps=500,\n",
    "            logging_steps=10,\n",
    "            save_total_limit=1,\n",
    "            load_best_model_at_end=True,\n",
    "            metric_for_best_model=\"eval_exact_match\",\n",
    "            greater_is_better=True,\n",
    "        )\n",
    "\n",
    "        trainer = Trainer(\n",
    "            model=self.model,\n",
    "            args=training_args,\n",
    "            train_dataset=train_dataset,\n",
    "            eval_dataset=validation_dataset,\n",
    "            tokenizer=self.tokenizer,\n",
    "            compute_metrics=self.compute_metrics,\n",
    "        )\n",
    "\n",
    "        return trainer\n",
    "\n",
    "    def fit(self, trainer):\n",
    "        train_losses = []\n",
    "        eval_losses = []\n",
    "        em_scores = []\n",
    "\n",
    "        # Training loop for the specified number of epochs\n",
    "        for epoch in range(10):\n",
    "            train_result = trainer.train()\n",
    "            train_loss = train_result.metrics[\"train_loss\"]\n",
    "            train_losses.append(train_loss)\n",
    "\n",
    "            eval_result = trainer.evaluate()\n",
    "            eval_loss = eval_result.get(\"eval_loss\", None)\n",
    "            eval_losses.append(eval_loss)\n",
    "            em_score = eval_result.get(\"eval_exact_match\", None)\n",
    "            em_scores.append(em_score)\n",
    "\n",
    "            print(f\"Epoch {epoch + 1}:\")\n",
    "            print(f\"  - Train Loss = {train_loss}\")\n",
    "            print(f\"  - Eval Loss = {eval_loss}\")\n",
    "            print(f\"  - EM Score = {em_score:.2f}%\")\n",
    "\n",
    "        # Save the trained model\n",
    "        trainer.save_model(\"./base_model_checkpoint2\")\n",
    "\n",
    "        # Plot the training and validation loss curves\n",
    "        plt.figure(figsize=(8, 6))\n",
    "        plt.plot(range(1, len(train_losses) + 1), train_losses, label=\"Train Loss\")\n",
    "        plt.plot(range(1, len(eval_losses) + 1), eval_losses, label=\"Validation Loss\")\n",
    "        plt.xlabel(\"Epoch\")\n",
    "        plt.ylabel(\"Loss\")\n",
    "        plt.legend()\n",
    "        plt.title(\"Training & Validation Loss\")\n",
    "        plt.savefig(\"a2.png\")\n",
    "\n",
    "        # Plot the EM score per epoch\n",
    "        plt.figure(figsize=(8, 6))\n",
    "        plt.plot(range(1, len(em_scores) + 1), em_scores, marker=\"o\", label=\"Exact Match (EM) Score\")\n",
    "        plt.xlabel(\"Epoch\")\n",
    "        plt.ylabel(\"Exact Match Score (%)\")\n",
    "        plt.legend()\n",
    "        plt.title(\"Exact Match Score Over Epochs\")\n",
    "        plt.savefig(\"a1.png\")\n",
    "\n",
    "        return train_losses, eval_losses, em_scores\n",
    "\n",
    "# Instantiate and run\n",
    "spanbert = SpanBERT1()\n",
    "train_dataset, validation_dataset = spanbert.tokenize_dataset()\n",
    "trainer = spanbert.initialize_model(train_dataset, validation_dataset)\n",
    "train_losses, eval_losses, em_scores = spanbert.fit(trainer)\n"
   ]
  }
 ],
 "metadata": {
  "language_info": {
   "name": "python"
  }
 },
 "nbformat": 4,
 "nbformat_minor": 2
}
