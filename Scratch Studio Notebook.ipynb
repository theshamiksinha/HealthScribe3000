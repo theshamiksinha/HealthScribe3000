{
 "cells": [
  {
   "cell_type": "code",
   "execution_count": 1,
   "metadata": {},
   "outputs": [
    {
     "data": {
      "application/vnd.jupyter.widget-view+json": {
       "model_id": "0c270dec9b1e4b2e8a46905c95da454c",
       "version_major": 2,
       "version_minor": 0
      },
      "text/plain": [
       "Map:   0%|          | 0/11873 [00:00<?, ? examples/s]"
      ]
     },
     "metadata": {},
     "output_type": "display_data"
    },
    {
     "name": "stderr",
     "output_type": "stream",
     "text": [
      "Some weights of BertModel were not initialized from the model checkpoint at SpanBERT/spanbert-base-cased and are newly initialized: ['bert.pooler.dense.bias', 'bert.pooler.dense.weight']\n",
      "You should probably TRAIN this model on a down-stream task to be able to use it for predictions and inference.\n"
     ]
    },
    {
     "data": {
      "application/vnd.jupyter.widget-view+json": {
       "model_id": "2eb7fba2cf08494fbca9f391ab3874a0",
       "version_major": 2,
       "version_minor": 0
      },
      "text/plain": [
       "Map:   0%|          | 0/15000 [00:00<?, ? examples/s]"
      ]
     },
     "metadata": {},
     "output_type": "display_data"
    },
    {
     "data": {
      "application/vnd.jupyter.widget-view+json": {
       "model_id": "2b11e6c19e1345e1bd72f2a2cc287431",
       "version_major": 2,
       "version_minor": 0
      },
      "text/plain": [
       "Map:   0%|          | 0/11873 [00:00<?, ? examples/s]"
      ]
     },
     "metadata": {},
     "output_type": "display_data"
    },
    {
     "name": "stderr",
     "output_type": "stream",
     "text": [
      "/home/zeus/miniconda3/envs/cloudspace/lib/python3.10/site-packages/transformers/training_args.py:1575: FutureWarning: `evaluation_strategy` is deprecated and will be removed in version 4.46 of 🤗 Transformers. Use `eval_strategy` instead\n",
      "  warnings.warn(\n",
      "Using the `WANDB_DISABLED` environment variable is deprecated and will be removed in v5. Use the --report_to flag to control the integrations used for logging result (for instance --report_to none).\n",
      "/tmp/ipykernel_1416/3948104336.py:283: FutureWarning: `tokenizer` is deprecated and will be removed in version 5.0.0 for `Trainer.__init__`. Use `processing_class` instead.\n",
      "  trainer = Trainer(\n"
     ]
    },
    {
     "data": {
      "text/html": [
       "\n",
       "    <div>\n",
       "      \n",
       "      <progress value='940' max='940' style='width:300px; height:20px; vertical-align: middle;'></progress>\n",
       "      [940/940 12:26, Epoch 1/1]\n",
       "    </div>\n",
       "    <table border=\"1\" class=\"dataframe\">\n",
       "  <thead>\n",
       " <tr style=\"text-align: left;\">\n",
       "      <th>Epoch</th>\n",
       "      <th>Training Loss</th>\n",
       "      <th>Validation Loss</th>\n",
       "      <th>Exact Match</th>\n",
       "    </tr>\n",
       "  </thead>\n",
       "  <tbody>\n",
       "    <tr>\n",
       "      <td>1</td>\n",
       "      <td>9.679900</td>\n",
       "      <td>19.944106</td>\n",
       "      <td>28.042553</td>\n",
       "    </tr>\n",
       "  </tbody>\n",
       "</table><p>"
      ],
      "text/plain": [
       "<IPython.core.display.HTML object>"
      ]
     },
     "metadata": {},
     "output_type": "display_data"
    },
    {
     "data": {
      "text/html": [
       "\n",
       "    <div>\n",
       "      \n",
       "      <progress value='1500' max='750' style='width:300px; height:20px; vertical-align: middle;'></progress>\n",
       "      [750/750 15:30]\n",
       "    </div>\n",
       "    "
      ],
      "text/plain": [
       "<IPython.core.display.HTML object>"
      ]
     },
     "metadata": {},
     "output_type": "display_data"
    },
    {
     "name": "stdout",
     "output_type": "stream",
     "text": [
      "Epoch 1:\n",
      "  - Train Loss = 25.66202077662691\n",
      "  - Validation Loss = 19.944106101989746\n",
      "  - EM Score = 28.04%\n"
     ]
    },
    {
     "data": {
      "text/html": [
       "\n",
       "    <div>\n",
       "      \n",
       "      <progress value='940' max='940' style='width:300px; height:20px; vertical-align: middle;'></progress>\n",
       "      [940/940 12:27, Epoch 1/1]\n",
       "    </div>\n",
       "    <table border=\"1\" class=\"dataframe\">\n",
       "  <thead>\n",
       " <tr style=\"text-align: left;\">\n",
       "      <th>Epoch</th>\n",
       "      <th>Training Loss</th>\n",
       "      <th>Validation Loss</th>\n",
       "      <th>Exact Match</th>\n",
       "    </tr>\n",
       "  </thead>\n",
       "  <tbody>\n",
       "    <tr>\n",
       "      <td>1</td>\n",
       "      <td>4.950400</td>\n",
       "      <td>7.596703</td>\n",
       "      <td>37.443888</td>\n",
       "    </tr>\n",
       "  </tbody>\n",
       "</table><p>"
      ],
      "text/plain": [
       "<IPython.core.display.HTML object>"
      ]
     },
     "metadata": {},
     "output_type": "display_data"
    },
    {
     "data": {
      "text/html": [
       "\n",
       "    <div>\n",
       "      \n",
       "      <progress value='1500' max='750' style='width:300px; height:20px; vertical-align: middle;'></progress>\n",
       "      [750/750 15:29]\n",
       "    </div>\n",
       "    "
      ],
      "text/plain": [
       "<IPython.core.display.HTML object>"
      ]
     },
     "metadata": {},
     "output_type": "display_data"
    },
    {
     "name": "stdout",
     "output_type": "stream",
     "text": [
      "Epoch 2:\n",
      "  - Train Loss = 7.094560014440658\n",
      "  - Validation Loss = 7.596703052520752\n",
      "  - EM Score = 37.44%\n"
     ]
    },
    {
     "data": {
      "text/html": [
       "\n",
       "    <div>\n",
       "      \n",
       "      <progress value='940' max='940' style='width:300px; height:20px; vertical-align: middle;'></progress>\n",
       "      [940/940 12:26, Epoch 1/1]\n",
       "    </div>\n",
       "    <table border=\"1\" class=\"dataframe\">\n",
       "  <thead>\n",
       " <tr style=\"text-align: left;\">\n",
       "      <th>Epoch</th>\n",
       "      <th>Training Loss</th>\n",
       "      <th>Validation Loss</th>\n",
       "      <th>Exact Match</th>\n",
       "    </tr>\n",
       "  </thead>\n",
       "  <tbody>\n",
       "    <tr>\n",
       "      <td>1</td>\n",
       "      <td>4.204400</td>\n",
       "      <td>5.007810</td>\n",
       "      <td>42.653734</td>\n",
       "    </tr>\n",
       "  </tbody>\n",
       "</table><p>"
      ],
      "text/plain": [
       "<IPython.core.display.HTML object>"
      ]
     },
     "metadata": {},
     "output_type": "display_data"
    },
    {
     "data": {
      "text/html": [
       "\n",
       "    <div>\n",
       "      \n",
       "      <progress value='1500' max='750' style='width:300px; height:20px; vertical-align: middle;'></progress>\n",
       "      [750/750 15:28]\n",
       "    </div>\n",
       "    "
      ],
      "text/plain": [
       "<IPython.core.display.HTML object>"
      ]
     },
     "metadata": {},
     "output_type": "display_data"
    },
    {
     "name": "stdout",
     "output_type": "stream",
     "text": [
      "Epoch 3:\n",
      "  - Train Loss = 4.429899256280128\n",
      "  - Validation Loss = 5.0078104972839355\n",
      "  - EM Score = 42.65%\n"
     ]
    },
    {
     "data": {
      "text/html": [
       "\n",
       "    <div>\n",
       "      \n",
       "      <progress value='940' max='940' style='width:300px; height:20px; vertical-align: middle;'></progress>\n",
       "      [940/940 12:26, Epoch 1/1]\n",
       "    </div>\n",
       "    <table border=\"1\" class=\"dataframe\">\n",
       "  <thead>\n",
       " <tr style=\"text-align: left;\">\n",
       "      <th>Epoch</th>\n",
       "      <th>Training Loss</th>\n",
       "      <th>Validation Loss</th>\n",
       "      <th>Exact Match</th>\n",
       "    </tr>\n",
       "  </thead>\n",
       "  <tbody>\n",
       "    <tr>\n",
       "      <td>1</td>\n",
       "      <td>3.688700</td>\n",
       "      <td>2.736527</td>\n",
       "      <td>46.962453</td>\n",
       "    </tr>\n",
       "  </tbody>\n",
       "</table><p>"
      ],
      "text/plain": [
       "<IPython.core.display.HTML object>"
      ]
     },
     "metadata": {},
     "output_type": "display_data"
    },
    {
     "data": {
      "text/html": [
       "\n",
       "    <div>\n",
       "      \n",
       "      <progress value='1500' max='750' style='width:300px; height:20px; vertical-align: middle;'></progress>\n",
       "      [750/750 15:25]\n",
       "    </div>\n",
       "    "
      ],
      "text/plain": [
       "<IPython.core.display.HTML object>"
      ]
     },
     "metadata": {},
     "output_type": "display_data"
    },
    {
     "name": "stdout",
     "output_type": "stream",
     "text": [
      "Epoch 4:\n",
      "  - Train Loss = 3.3782902332062417\n",
      "  - Validation Loss = 2.736527442932129\n",
      "  - EM Score = 46.96%\n"
     ]
    },
    {
     "data": {
      "text/html": [
       "\n",
       "    <div>\n",
       "      \n",
       "      <progress value='940' max='940' style='width:300px; height:20px; vertical-align: middle;'></progress>\n",
       "      [940/940 12:24, Epoch 1/1]\n",
       "    </div>\n",
       "    <table border=\"1\" class=\"dataframe\">\n",
       "  <thead>\n",
       " <tr style=\"text-align: left;\">\n",
       "      <th>Epoch</th>\n",
       "      <th>Training Loss</th>\n",
       "      <th>Validation Loss</th>\n",
       "      <th>Exact Match</th>\n",
       "    </tr>\n",
       "  </thead>\n",
       "  <tbody>\n",
       "    <tr>\n",
       "      <td>1</td>\n",
       "      <td>3.343800</td>\n",
       "      <td>5.924998</td>\n",
       "      <td>45.420108</td>\n",
       "    </tr>\n",
       "  </tbody>\n",
       "</table><p>"
      ],
      "text/plain": [
       "<IPython.core.display.HTML object>"
      ]
     },
     "metadata": {},
     "output_type": "display_data"
    },
    {
     "data": {
      "text/html": [
       "\n",
       "    <div>\n",
       "      \n",
       "      <progress value='1500' max='750' style='width:300px; height:20px; vertical-align: middle;'></progress>\n",
       "      [750/750 15:22]\n",
       "    </div>\n",
       "    "
      ],
      "text/plain": [
       "<IPython.core.display.HTML object>"
      ]
     },
     "metadata": {},
     "output_type": "display_data"
    },
    {
     "name": "stdout",
     "output_type": "stream",
     "text": [
      "Epoch 5:\n",
      "  - Train Loss = 2.7861504250384392\n",
      "  - Validation Loss = 5.924997806549072\n",
      "  - EM Score = 45.42%\n"
     ]
    },
    {
     "data": {
      "text/html": [
       "\n",
       "    <div>\n",
       "      \n",
       "      <progress value='940' max='940' style='width:300px; height:20px; vertical-align: middle;'></progress>\n",
       "      [940/940 12:22, Epoch 1/1]\n",
       "    </div>\n",
       "    <table border=\"1\" class=\"dataframe\">\n",
       "  <thead>\n",
       " <tr style=\"text-align: left;\">\n",
       "      <th>Epoch</th>\n",
       "      <th>Training Loss</th>\n",
       "      <th>Validation Loss</th>\n",
       "      <th>Exact Match</th>\n",
       "    </tr>\n",
       "  </thead>\n",
       "  <tbody>\n",
       "    <tr>\n",
       "      <td>1</td>\n",
       "      <td>2.986900</td>\n",
       "      <td>5.118136</td>\n",
       "      <td>46.254485</td>\n",
       "    </tr>\n",
       "  </tbody>\n",
       "</table><p>"
      ],
      "text/plain": [
       "<IPython.core.display.HTML object>"
      ]
     },
     "metadata": {},
     "output_type": "display_data"
    },
    {
     "data": {
      "text/html": [
       "\n",
       "    <div>\n",
       "      \n",
       "      <progress value='750' max='750' style='width:300px; height:20px; vertical-align: middle;'></progress>\n",
       "      [750/750 03:02]\n",
       "    </div>\n",
       "    "
      ],
      "text/plain": [
       "<IPython.core.display.HTML object>"
      ]
     },
     "metadata": {},
     "output_type": "display_data"
    },
    {
     "name": "stdout",
     "output_type": "stream",
     "text": [
      "Epoch 6:\n",
      "  - Train Loss = 2.4082697279909824\n",
      "  - Validation Loss = 5.118136405944824\n",
      "  - EM Score = 46.25%\n"
     ]
    },
    {
     "data": {
      "image/png": "[encoded data removed]",
      "text/plain": [
       "<Figure size 800x600 with 1 Axes>"
      ]
     },
     "metadata": {},
     "output_type": "display_data"
    },
    {
     "data": {
      "image/png": "[encoded data removed]",
      "text/plain": [
       "<Figure size 800x600 with 1 Axes>"
      ]
     },
     "metadata": {},
     "output_type": "display_data"
    }
   ],
   "source": [
    "import torch\n",
    "import torch.nn as nn\n",
    "from transformers import AutoTokenizer, AutoModel, Trainer, TrainingArguments\n",
    "from torchcrf import CRF  # make sure to: pip install torchcrf\n",
    "from datasets import load_dataset\n",
    "import numpy as np\n",
    "import os\n",
    "import matplotlib.pyplot as plt\n",
    "import collections\n",
    "from tqdm import tqdm\n",
    "\n",
    "# os.environ[\"CUDA_VISIBLE_DEVICES\"] = \"6\"\n",
    "\n",
    "import os\n",
    "os.environ[\"WANDB_DISABLED\"] = \"true\"\n",
    "\n",
    "def lowercase_example(example):\n",
    "    example[\"question\"] = example[\"question\"].lower()\n",
    "    example[\"context\"] = example[\"context\"].lower()\n",
    "    example[\"answers\"][\"text\"] = [ans.lower() for ans in example[\"answers\"][\"text\"]]\n",
    "    return example\n",
    "\n",
    "def exact_match_score(predictions, references):\n",
    "    \"\"\"Compute the exact match score given predicted answer strings and a list of reference answers.\"\"\"\n",
    "    matches = 0\n",
    "    for pred, ref_list in zip(predictions, references):\n",
    "        if any(pred.strip() == ref.strip() for ref in ref_list):\n",
    "            matches += 1\n",
    "    return matches / len(references) * 100  # percentage\n",
    "\n",
    "class SpanBERTCRFModel(nn.Module):\n",
    "    def __init__(self, num_labels=3):\n",
    "        super(SpanBERTCRFModel, self).__init__()\n",
    "        self.bert = AutoModel.from_pretrained(\"SpanBERT/spanbert-base-cased\")\n",
    "        hidden_size = self.bert.config.hidden_size\n",
    "        self.classifier = nn.Linear(hidden_size, num_labels)\n",
    "        self.crf = CRF(num_tags=num_labels, batch_first=True)\n",
    "\n",
    "    def forward(self, input_ids, attention_mask=None, token_type_ids=None, labels=None):\n",
    "        outputs = self.bert(input_ids=input_ids,\n",
    "                            attention_mask=attention_mask,\n",
    "                            token_type_ids=token_type_ids)\n",
    "        sequence_output = outputs[0]  # (batch_size, seq_len, hidden_size)\n",
    "        emissions = self.classifier(sequence_output)  # (batch_size, seq_len, num_labels)\n",
    "        mask = attention_mask.bool() if attention_mask is not None else None\n",
    "\n",
    "        # Always decode predictions\n",
    "        decoded = self.crf.decode(emissions, mask=mask)\n",
    "        decoded_tensors = []\n",
    "        for seq in decoded:\n",
    "            if len(seq) == 0:\n",
    "                # Replace empty sequence with a default padded value.\n",
    "                seq = [-100]\n",
    "            decoded_tensors.append(torch.tensor(seq))\n",
    "        padded_predictions = torch.nn.utils.rnn.pad_sequence(\n",
    "            decoded_tensors, batch_first=True, padding_value=-100\n",
    "        )\n",
    "        \n",
    "        if labels is not None:\n",
    "            loss = -self.crf(emissions, labels, mask=mask, reduction='mean')\n",
    "            return {\"loss\": loss, \"predictions\": padded_predictions}\n",
    "        else:\n",
    "            return {\"predictions\": padded_predictions, \"dummy_loss\": torch.tensor(0.0)}\n",
    "\n",
    "\n",
    "def preprocess_validation_examples(example, tokenizer, max_length=512, doc_stride=128):\n",
    "    inputs = tokenizer(\n",
    "        example[\"question\"],\n",
    "        example[\"context\"],\n",
    "        max_length=max_length,\n",
    "        truncation=\"only_second\",\n",
    "        stride=doc_stride,\n",
    "        return_overflowing_tokens=True,\n",
    "        return_offsets_mapping=True,\n",
    "        padding=\"max_length\",\n",
    "    )\n",
    "    sample_map = inputs.pop(\"overflow_to_sample_mapping\")\n",
    "    example_ids = []\n",
    "    contexts = []\n",
    "    answers_list = []\n",
    "    label_sequences = []  # for validation we also compute BIO labels\n",
    "\n",
    "    for i in range(len(inputs[\"input_ids\"])):\n",
    "        sample_idx = sample_map[i]\n",
    "        example_ids.append(example[\"id\"][sample_idx])\n",
    "        contexts.append(example[\"context\"][sample_idx])\n",
    "        answers_list.append(example[\"answers\"][sample_idx])\n",
    "\n",
    "        seq_ids = inputs.sequence_ids(i)\n",
    "        offsets = inputs[\"offset_mapping\"][i]\n",
    "        labels = [0] * len(offsets)\n",
    "        answer = example[\"answers\"][sample_idx]\n",
    "        if len(answer[\"answer_start\"]) != 0:\n",
    "            start_char = answer[\"answer_start\"][0]\n",
    "            end_char = start_char + len(answer[\"text\"][0])\n",
    "            idx = 0\n",
    "            while idx < len(seq_ids) and seq_ids[idx] != 1:\n",
    "                idx += 1\n",
    "            context_start = idx\n",
    "            while idx < len(seq_ids) and seq_ids[idx] == 1:\n",
    "                idx += 1\n",
    "            context_end = idx - 1\n",
    "\n",
    "            if offsets[context_start][0] <= start_char and offsets[context_end][1] >= end_char:\n",
    "                token_start, token_end = None, None\n",
    "                for j in range(context_start, context_end + 1):\n",
    "                    if offsets[j][0] <= start_char < offsets[j][1]:\n",
    "                        token_start = j\n",
    "                        break\n",
    "                for j in range(context_end, context_start - 1, -1):\n",
    "                    if offsets[j][0] < end_char <= offsets[j][1]:\n",
    "                        token_end = j\n",
    "                        break\n",
    "                if token_start is not None and token_end is not None and token_start <= token_end:\n",
    "                    labels[token_start] = 1\n",
    "                    for k in range(token_start + 1, token_end + 1):\n",
    "                        labels[k] = 2\n",
    "        label_sequences.append(labels)\n",
    "        # For evaluation later, we also set tokens outside context to None in the offset mapping.\n",
    "        sequence_ids = inputs.sequence_ids(i)\n",
    "        inputs[\"offset_mapping\"][i] = [o if sequence_ids[k] == 1 else None for k, o in enumerate(offsets)]\n",
    "\n",
    "    inputs[\"example_id\"] = example_ids\n",
    "    inputs[\"context\"] = contexts\n",
    "    inputs[\"answers\"] = answers_list\n",
    "    inputs[\"labels\"] = label_sequences\n",
    "    return inputs\n",
    "\n",
    "##########################################\n",
    "# Define the SpanBERT-CRF training class #\n",
    "##########################################\n",
    "\n",
    "class SpanBERTCRF:\n",
    "    def __init__(self, max_length=512, doc_stride=128):\n",
    "        self.dataset = load_dataset(\"squad_v2\")\n",
    "        # For demonstration purposes, we select a small subset.\n",
    "        self.dataset[\"train\"] = self.dataset[\"train\"].select(range(15000))\n",
    "        # self.dataset[\"validation\"] = self.dataset[\"validation\"].select(range(3500))\n",
    "        self.dataset[\"train\"] = self.dataset[\"train\"].map(lowercase_example)\n",
    "        self.dataset[\"validation\"] = self.dataset[\"validation\"].map(lowercase_example)\n",
    "        self.validation_examples = self.dataset[\"validation\"]\n",
    "\n",
    "        self.tokenizer = AutoTokenizer.from_pretrained(\"bert-base-cased\")\n",
    "        self.model = SpanBERTCRFModel(num_labels=3)\n",
    "        self.max_length = max_length\n",
    "        self.doc_stride = doc_stride\n",
    "\n",
    "    def preprocess_training_examples(self, examples):\n",
    "        inputs = self.tokenizer(\n",
    "            [q.strip().lower() for q in examples[\"question\"]],\n",
    "            [q.strip().lower() for q in examples[\"context\"]],\n",
    "            max_length=self.max_length,\n",
    "            truncation=\"only_second\",\n",
    "            stride=self.doc_stride,\n",
    "            return_overflowing_tokens=True,\n",
    "            return_offsets_mapping=True,\n",
    "            padding=\"max_length\",\n",
    "        )\n",
    "\n",
    "        offset_mapping = inputs.pop(\"offset_mapping\")\n",
    "        sample_map = inputs.pop(\"overflow_to_sample_mapping\")\n",
    "        answers = examples[\"answers\"]\n",
    "        all_labels = []\n",
    "\n",
    "        for i, offset in enumerate(offset_mapping):\n",
    "            sample_idx = sample_map[i]\n",
    "            answer = answers[sample_idx]\n",
    "            labels = [0] * self.max_length  # O by default\n",
    "\n",
    "            if len(answer[\"answer_start\"]) == 0:\n",
    "                pass  # keep default positions for no-answer cases\n",
    "            else:\n",
    "                start_char = answer[\"answer_start\"][0]\n",
    "                end_char = answer[\"answer_start\"][0] + len(answer[\"text\"][0])\n",
    "                sequence_ids = inputs.sequence_ids(i)\n",
    "\n",
    "                idx = 0\n",
    "                while sequence_ids[idx] != 1:\n",
    "                    idx += 1\n",
    "                context_start = idx\n",
    "                while idx < len(sequence_ids) and sequence_ids[idx] == 1:\n",
    "                    idx += 1\n",
    "                context_end = idx - 1\n",
    "\n",
    "                if offset[context_start][0] > start_char or offset[context_end][1] < end_char:\n",
    "                    pass\n",
    "                else:\n",
    "                    idx = context_start\n",
    "                    while idx <= context_end and offset[idx][0] <= start_char:\n",
    "                        idx += 1\n",
    "                    start_pos = idx - 1\n",
    "\n",
    "                    idx = context_end\n",
    "                    while idx >= context_start and offset[idx][1] >= end_char:\n",
    "                        idx -= 1\n",
    "                    end_pos = idx + 1\n",
    "\n",
    "                    # Generate BIO tags\n",
    "                    if start_pos < self.max_length and end_pos < self.max_length and start_pos <= end_pos:\n",
    "                        labels[start_pos] = 1  # B\n",
    "                        for j in range(start_pos + 1, end_pos + 1):\n",
    "                            if j < self.max_length:\n",
    "                                labels[j] = 2  # I\n",
    "            all_labels.append(labels)\n",
    "\n",
    "        inputs[\"labels\"] = all_labels\n",
    "        return inputs\n",
    "\n",
    "    def tokenize_dataset(self):\n",
    "        train_dataset = self.dataset[\"train\"].map(\n",
    "            lambda ex: self.preprocess_training_examples(ex),\n",
    "            batched=True,\n",
    "            remove_columns=self.dataset[\"train\"].column_names\n",
    "        )\n",
    "        validation_dataset = self.dataset[\"validation\"].map(\n",
    "            lambda ex: preprocess_validation_examples(ex, self.tokenizer, self.max_length, self.doc_stride),\n",
    "            batched=True,\n",
    "            remove_columns=self.dataset[\"validation\"].column_names\n",
    "        )\n",
    "        # IMPORTANT: Do not remove the labels from validation dataset\n",
    "        # so that the evaluation loss can be computed.\n",
    "        # validation_dataset = validation_dataset.remove_columns([\"labels\"])\n",
    "\n",
    "        # Save the validation features (with offset mapping, context, and answers)\n",
    "        self.validation_features = validation_dataset\n",
    "        return train_dataset, validation_dataset\n",
    "\n",
    "    def compute_metrics(self, eval_pred):\n",
    "        \n",
    "        predictions, _ = eval_pred  # ignore label_ids if not provided\n",
    "        if isinstance(predictions, np.ndarray):\n",
    "            predictions = predictions.tolist()\n",
    "        # print(predictions)\n",
    "        pred_answers = []\n",
    "        references = []\n",
    "        \n",
    "        # Iterate over each prediction and its corresponding original validation feature.\n",
    "        for i, pred in enumerate(predictions):\n",
    "            feature = self.validation_features[i]\n",
    "            offsets = feature[\"offset_mapping\"]  # list of (start, end) for tokens; tokens outside context are None\n",
    "            context = feature[\"context\"]\n",
    "            \n",
    "            start_token = None\n",
    "            for j, tag in enumerate(pred):\n",
    "                if offsets[j] is not None and tag in [1, 2]:\n",
    "                    start_token = j\n",
    "                    break\n",
    "            if start_token is not None:\n",
    "                end_token = start_token\n",
    "                for j in range(start_token, len(pred)):\n",
    "                    if offsets[j] is None or pred[j] not in [1, 2]:\n",
    "                        break\n",
    "                    end_token = j\n",
    "                char_start = offsets[start_token][0]\n",
    "                char_end = offsets[end_token][1]\n",
    "                pred_answer = context[char_start:char_end].strip()\n",
    "            else:\n",
    "                pred_answer = \"\"\n",
    "            \n",
    "            pred_answers.append(pred_answer)\n",
    "            references.append(feature[\"answers\"][\"text\"])\n",
    "        # print(pred_answers)\n",
    "        em_score = exact_match_score(pred_answers, references)\n",
    "        return {\"eval_exact_match\": em_score}\n",
    "\n",
    "    def initialize_model(self, train_dataset, validation_dataset):\n",
    "        training_args = TrainingArguments(\n",
    "            output_dir=\"./results_crf\",\n",
    "            evaluation_strategy=\"epoch\",\n",
    "            save_strategy=\"epoch\",\n",
    "            learning_rate=4e-5,\n",
    "            per_device_train_batch_size=16,\n",
    "            per_device_eval_batch_size=16,\n",
    "            num_train_epochs=1,\n",
    "            warmup_steps=500,\n",
    "            logging_steps=100,\n",
    "            load_best_model_at_end=True,\n",
    "            # Optionally, you can set a metric for best model selection:\n",
    "            metric_for_best_model=\"eval_exact_match\",\n",
    "            greater_is_better=True,\n",
    "        )\n",
    "\n",
    "        trainer = Trainer(\n",
    "            model=self.model,\n",
    "            args=training_args,\n",
    "            train_dataset=train_dataset,\n",
    "            eval_dataset=validation_dataset,\n",
    "            tokenizer=self.tokenizer,\n",
    "            compute_metrics=self.compute_metrics,\n",
    "        )\n",
    "        return trainer\n",
    "\n",
    "    def fit(self, trainer):\n",
    "        train_losses = []\n",
    "        em_scores = []\n",
    "        val_losses = []\n",
    "\n",
    "        # Training loop for multiple epochs\n",
    "        for epoch in range(6):\n",
    "            train_result = trainer.train()\n",
    "            train_loss = train_result.metrics[\"train_loss\"]\n",
    "            train_losses.append(train_loss)\n",
    "\n",
    "            eval_result = trainer.evaluate()\n",
    "            # Extract validation loss and exact match score\n",
    "            eval_loss = eval_result.get(\"eval_loss\", None)\n",
    "            em_score = eval_result.get(\"eval_exact_match\", None)\n",
    "            val_losses.append(eval_loss)\n",
    "            em_scores.append(em_score)\n",
    "\n",
    "            print(f\"Epoch {epoch + 1}:\")\n",
    "            print(f\"  - Train Loss = {train_loss}\")\n",
    "            print(f\"  - Validation Loss = {eval_loss}\")\n",
    "            print(f\"  - EM Score = {em_score:.2f}%\")\n",
    "\n",
    "        # Save the trained model\n",
    "        trainer.save_model(\"./crf_model_checkpoint\")\n",
    "\n",
    "        # Plot training and validation loss\n",
    "        plt.figure(figsize=(8, 6))\n",
    "        plt.plot(range(1, len(train_losses) + 1), train_losses, label=\"Train Loss\")\n",
    "        plt.plot(range(1, len(val_losses) + 1), val_losses, label=\"Validation Loss\")\n",
    "        plt.xlabel(\"Epoch\")\n",
    "        plt.ylabel(\"Loss\")\n",
    "        plt.legend()\n",
    "        plt.title(\"Training and Validation Loss\")\n",
    "        plt.savefig(\"crf_loss.png\")\n",
    "\n",
    "        # Plot exact match scores\n",
    "        plt.figure(figsize=(8, 6))\n",
    "        plt.plot(range(1, len(em_scores) + 1), em_scores, marker=\"o\", label=\"Exact Match (EM) Score\")\n",
    "        plt.xlabel(\"Epoch\")\n",
    "        plt.ylabel(\"Exact Match Score (%)\")\n",
    "        plt.legend()\n",
    "        plt.title(\"EM Score Over Epochs\")\n",
    "        plt.savefig(\"crf_em.png\")\n",
    "\n",
    "        return train_losses, em_scores, val_losses\n",
    "\n",
    "# Instantiate, tokenize datasets, initialize model, and fit.\n",
    "spanbert_crf = SpanBERTCRF()\n",
    "train_dataset, validation_dataset = spanbert_crf.tokenize_dataset()\n",
    "trainer = spanbert_crf.initialize_model(train_dataset, validation_dataset)\n",
    "train_losses, em_scores, val_losses = spanbert_crf.fit(trainer)"
   ]
  }
 ],
 "metadata": {
  "kernelspec": {
   "display_name": "base",
   "language": "python",
   "name": "python3"
  },
  "language_info": {
   "codemirror_mode": {
    "name": "ipython",
    "version": 3
   },
   "file_extension": ".py",
   "mimetype": "text/x-python",
   "name": "python",
   "nbconvert_exporter": "python",
   "pygments_lexer": "ipython3",
   "version": "3.11.7"
  }
 },
 "nbformat": 4,
 "nbformat_minor": 2
}
